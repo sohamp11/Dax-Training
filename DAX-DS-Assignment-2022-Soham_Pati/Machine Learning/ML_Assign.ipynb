{
 "cells": [
  {
   "cell_type": "code",
   "execution_count": 13,
   "id": "0a24d987",
   "metadata": {},
   "outputs": [],
   "source": [
    "import pandas as pd\n",
    "import numpy as np\n",
    "import matplotlib.pyplot as plt\n",
    "import sklearn.preprocessing\n",
    "import seaborn as sns"
   ]
  },
  {
   "cell_type": "code",
   "execution_count": 40,
   "id": "f446da1e",
   "metadata": {},
   "outputs": [
    {
     "data": {
      "text/html": [
       "<div>\n",
       "<style scoped>\n",
       "    .dataframe tbody tr th:only-of-type {\n",
       "        vertical-align: middle;\n",
       "    }\n",
       "\n",
       "    .dataframe tbody tr th {\n",
       "        vertical-align: top;\n",
       "    }\n",
       "\n",
       "    .dataframe thead th {\n",
       "        text-align: right;\n",
       "    }\n",
       "</style>\n",
       "<table border=\"1\" class=\"dataframe\">\n",
       "  <thead>\n",
       "    <tr style=\"text-align: right;\">\n",
       "      <th></th>\n",
       "      <th>Unnamed: 0</th>\n",
       "      <th>id</th>\n",
       "      <th>gender</th>\n",
       "      <th>age</th>\n",
       "      <th>hypertension</th>\n",
       "      <th>heart_disease</th>\n",
       "      <th>ever_married</th>\n",
       "      <th>work_type</th>\n",
       "      <th>Residence_type</th>\n",
       "      <th>avg_glucose_level</th>\n",
       "      <th>bmi</th>\n",
       "      <th>smoking_status</th>\n",
       "      <th>stroke</th>\n",
       "    </tr>\n",
       "  </thead>\n",
       "  <tbody>\n",
       "    <tr>\n",
       "      <th>0</th>\n",
       "      <td>0</td>\n",
       "      <td>9046</td>\n",
       "      <td>1</td>\n",
       "      <td>0.816895</td>\n",
       "      <td>0</td>\n",
       "      <td>1</td>\n",
       "      <td>1</td>\n",
       "      <td>2</td>\n",
       "      <td>1</td>\n",
       "      <td>0.928786</td>\n",
       "      <td>0.631290</td>\n",
       "      <td>1</td>\n",
       "      <td>1</td>\n",
       "    </tr>\n",
       "    <tr>\n",
       "      <th>1</th>\n",
       "      <td>1</td>\n",
       "      <td>51676</td>\n",
       "      <td>0</td>\n",
       "      <td>0.743652</td>\n",
       "      <td>0</td>\n",
       "      <td>0</td>\n",
       "      <td>1</td>\n",
       "      <td>3</td>\n",
       "      <td>0</td>\n",
       "      <td>0.787090</td>\n",
       "      <td>0.427261</td>\n",
       "      <td>2</td>\n",
       "      <td>1</td>\n",
       "    </tr>\n",
       "    <tr>\n",
       "      <th>2</th>\n",
       "      <td>2</td>\n",
       "      <td>31112</td>\n",
       "      <td>1</td>\n",
       "      <td>0.975586</td>\n",
       "      <td>0</td>\n",
       "      <td>1</td>\n",
       "      <td>1</td>\n",
       "      <td>2</td>\n",
       "      <td>0</td>\n",
       "      <td>0.271835</td>\n",
       "      <td>0.532876</td>\n",
       "      <td>2</td>\n",
       "      <td>1</td>\n",
       "    </tr>\n",
       "    <tr>\n",
       "      <th>3</th>\n",
       "      <td>3</td>\n",
       "      <td>60182</td>\n",
       "      <td>0</td>\n",
       "      <td>0.597168</td>\n",
       "      <td>0</td>\n",
       "      <td>0</td>\n",
       "      <td>1</td>\n",
       "      <td>2</td>\n",
       "      <td>1</td>\n",
       "      <td>0.621313</td>\n",
       "      <td>0.578483</td>\n",
       "      <td>3</td>\n",
       "      <td>1</td>\n",
       "    </tr>\n",
       "    <tr>\n",
       "      <th>4</th>\n",
       "      <td>4</td>\n",
       "      <td>1665</td>\n",
       "      <td>0</td>\n",
       "      <td>0.963379</td>\n",
       "      <td>1</td>\n",
       "      <td>0</td>\n",
       "      <td>1</td>\n",
       "      <td>3</td>\n",
       "      <td>0</td>\n",
       "      <td>0.636778</td>\n",
       "      <td>0.328847</td>\n",
       "      <td>2</td>\n",
       "      <td>1</td>\n",
       "    </tr>\n",
       "  </tbody>\n",
       "</table>\n",
       "</div>"
      ],
      "text/plain": [
       "   Unnamed: 0     id  gender       age  hypertension  heart_disease  \\\n",
       "0           0   9046       1  0.816895             0              1   \n",
       "1           1  51676       0  0.743652             0              0   \n",
       "2           2  31112       1  0.975586             0              1   \n",
       "3           3  60182       0  0.597168             0              0   \n",
       "4           4   1665       0  0.963379             1              0   \n",
       "\n",
       "   ever_married  work_type  Residence_type  avg_glucose_level       bmi  \\\n",
       "0             1          2               1           0.928786  0.631290   \n",
       "1             1          3               0           0.787090  0.427261   \n",
       "2             1          2               0           0.271835  0.532876   \n",
       "3             1          2               1           0.621313  0.578483   \n",
       "4             1          3               0           0.636778  0.328847   \n",
       "\n",
       "   smoking_status  stroke  \n",
       "0               1       1  \n",
       "1               2       1  \n",
       "2               2       1  \n",
       "3               3       1  \n",
       "4               2       1  "
      ]
     },
     "execution_count": 40,
     "metadata": {},
     "output_type": "execute_result"
    }
   ],
   "source": [
    "#Reading ht csv file\n",
    "df =pd.read_csv(\"C:\\Projects\\Data_sci\\DAX-DS-Assignment-2022-Soham_Patil\\Data_Analytics\\Analytics.csv\")\n",
    "df.head()"
   ]
  },
  {
   "cell_type": "markdown",
   "id": "fd2e6cd6",
   "metadata": {},
   "source": [
    "# SELECTING FEATURES AND CREATING DATAFRAME"
   ]
  },
  {
   "cell_type": "code",
   "execution_count": 41,
   "id": "d5ac37af",
   "metadata": {},
   "outputs": [
    {
     "name": "stdout",
     "output_type": "stream",
     "text": [
      "      Unnamed: 0     id  gender       age  hypertension  heart_disease  \\\n",
      "0              0   9046       1  0.816895             0              1   \n",
      "1              1  51676       0  0.743652             0              0   \n",
      "2              2  31112       1  0.975586             0              1   \n",
      "3              3  60182       0  0.597168             0              0   \n",
      "4              4   1665       0  0.963379             1              0   \n",
      "...          ...    ...     ...       ...           ...            ...   \n",
      "5105        5105  18234       0  0.975586             1              0   \n",
      "5106        5106  44873       0  0.987793             0              0   \n",
      "5107        5107  19723       0  0.426270             0              0   \n",
      "5108        5108  37544       1  0.621582             0              0   \n",
      "5109        5109  44679       0  0.536133             0              0   \n",
      "\n",
      "      work_type  avg_glucose_level       bmi  smoking_status  \n",
      "0             2           0.928786  0.631290               1  \n",
      "1             3           0.787090  0.427261               2  \n",
      "2             2           0.271835  0.532876               2  \n",
      "3             2           0.621313  0.578483               3  \n",
      "4             3           0.636778  0.328847               2  \n",
      "...         ...                ...       ...             ...  \n",
      "5105          2           0.153201  0.427261               2  \n",
      "5106          3           0.375003  0.712902               2  \n",
      "5107          3           0.149134  0.487270               2  \n",
      "5108          2           0.594879  0.367252               1  \n",
      "5109          0           0.161388  0.381654               0  \n",
      "\n",
      "[5110 rows x 10 columns]\n",
      "0       1\n",
      "1       1\n",
      "2       1\n",
      "3       1\n",
      "4       1\n",
      "       ..\n",
      "5105    0\n",
      "5106    0\n",
      "5107    0\n",
      "5108    0\n",
      "5109    0\n",
      "Name: stroke, Length: 5110, dtype: int64\n"
     ]
    }
   ],
   "source": [
    "X = df.drop(['Residence_type','ever_married','stroke'],axis=1)\n",
    "print(X)\n",
    "\n",
    "Y = df['stroke']\n",
    "print(Y)"
   ]
  },
  {
   "cell_type": "markdown",
   "id": "bd1466cb",
   "metadata": {},
   "source": [
    "# MODELS\n"
   ]
  },
  {
   "cell_type": "code",
   "execution_count": 42,
   "id": "bcf2d0fb",
   "metadata": {},
   "outputs": [],
   "source": [
    "from sklearn.model_selection import train_test_split"
   ]
  },
  {
   "cell_type": "code",
   "execution_count": 43,
   "id": "dec93622",
   "metadata": {},
   "outputs": [],
   "source": [
    "from sklearn.linear_model import LogisticRegression"
   ]
  },
  {
   "cell_type": "code",
   "execution_count": 44,
   "id": "b9ed35f6",
   "metadata": {},
   "outputs": [
    {
     "name": "stdout",
     "output_type": "stream",
     "text": [
      "Counter({0: 3417, 1: 160})\n",
      "Counter({0: 1444, 1: 89})\n"
     ]
    }
   ],
   "source": [
    "from collections import Counter\n",
    "x_train, x_test, y_train, y_test = train_test_split(X, Y, test_size=0.3,random_state=42)\n",
    "\n",
    "print(Counter(y_train))\n",
    "\n",
    "print(Counter(y_test))"
   ]
  },
  {
   "cell_type": "code",
   "execution_count": null,
   "id": "c56e07f8",
   "metadata": {},
   "outputs": [],
   "source": []
  }
 ],
 "metadata": {
  "kernelspec": {
   "display_name": "Python 3 (ipykernel)",
   "language": "python",
   "name": "python3"
  },
  "language_info": {
   "codemirror_mode": {
    "name": "ipython",
    "version": 3
   },
   "file_extension": ".py",
   "mimetype": "text/x-python",
   "name": "python",
   "nbconvert_exporter": "python",
   "pygments_lexer": "ipython3",
   "version": "3.9.13"
  }
 },
 "nbformat": 4,
 "nbformat_minor": 5
}
